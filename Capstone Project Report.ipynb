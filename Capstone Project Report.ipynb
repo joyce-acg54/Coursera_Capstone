{
 "cells": [
  {
   "cell_type": "markdown",
   "metadata": {},
   "source": [
    "<H1>Introduction</H1>"
   ]
  },
  {
   "cell_type": "markdown",
   "metadata": {},
   "source": [
    "We are consulting company that was hired to help a client launch a new Italian restaurant in Doha, Qatar. Before we can execute this project, we would need to gather information that will be used to create a convincing proposal. First, the client wants to know who are the top competitors in the Qatar market. Second, he wants a marketing strategy to jumpstart his new restaurant's sales when he enters the market. Third, as a part of his long-term plan, he wants to expand to 3 other locations in Doha and he wants to know where would be the best location to place these branches.\n",
    "\n",
    "The problem we want to answer is, \"Which information can help us build a strong restaurant launch proposal?\". "
   ]
  },
  {
   "cell_type": "markdown",
   "metadata": {},
   "source": [
    "<h1>Data</h1>"
   ]
  },
  {
   "cell_type": "markdown",
   "metadata": {},
   "source": [
    "<h4>1. Foursquare Data </h4>"
   ]
  },
  {
   "cell_type": "markdown",
   "metadata": {},
   "source": [
    "We will be capitalizing on Foursquare's existing data on Italian restaurants located in Doha, Qatar. This will show us the brand name, geographical location, and the ratings of relevant restaurants in the country."
   ]
  },
  {
   "cell_type": "markdown",
   "metadata": {},
   "source": [
    "<h4>2. Discount App Dataset </h4>"
   ]
  },
  {
   "cell_type": "markdown",
   "metadata": {},
   "source": [
    "Discount Apps have gained popularity in the country and have shown great potential in terms of increasing brand exposure. We will be exploring this dataset as a part of our proposal using brand names, brand locations, and discount voucher redemptions per location."
   ]
  },
  {
   "cell_type": "code",
   "execution_count": null,
   "metadata": {},
   "outputs": [],
   "source": []
  }
 ],
 "metadata": {
  "kernelspec": {
   "display_name": "Python 3",
   "language": "python",
   "name": "python3"
  },
  "language_info": {
   "codemirror_mode": {
    "name": "ipython",
    "version": 3
   },
   "file_extension": ".py",
   "mimetype": "text/x-python",
   "name": "python",
   "nbconvert_exporter": "python",
   "pygments_lexer": "ipython3",
   "version": "3.7.1"
  }
 },
 "nbformat": 4,
 "nbformat_minor": 2
}
