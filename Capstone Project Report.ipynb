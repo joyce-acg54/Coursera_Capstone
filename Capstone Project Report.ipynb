{
 "cells": [
  {
   "cell_type": "markdown",
   "metadata": {},
   "source": [
    "<H1>Introduction</H1>"
   ]
  },
  {
   "cell_type": "markdown",
   "metadata": {},
   "source": [
    "We are consulting company that was hired to help a client launch a new Italian restaurant in Doha, Qatar. Before we can execute this project, we would need to gather information that will be used to create a convincing proposal. First, the client wants to know who are the top competitors in the Qatar market. Second, he wants a marketing strategy to jumpstart his new restaurant's sales when he enters the market. Third, as a part of his long-term plan, he wants to expand to 2 other locations in Doha and he wants to know where would be the best location to place these branches.\n",
    "\n",
    "The problem we want to answer is, \"Which information can help us build a strong restaurant launch proposal?\". "
   ]
  },
  {
   "cell_type": "markdown",
   "metadata": {},
   "source": [
    "<h1>Data</h1>"
   ]
  },
  {
   "cell_type": "markdown",
   "metadata": {},
   "source": [
    "<h4>1. Foursquare Data </h4>"
   ]
  },
  {
   "cell_type": "markdown",
   "metadata": {},
   "source": [
    "We will be capitalizing on Foursquare's existing data on Italian restaurants located in Doha, Qatar. This will show us the brand name, geographical location, and the ratings of relevant restaurants in the country."
   ]
  },
  {
   "cell_type": "markdown",
   "metadata": {},
   "source": [
    "<h4>2. Discount App Dataset </h4>"
   ]
  },
  {
   "cell_type": "markdown",
   "metadata": {},
   "source": [
    "Discount Apps have gained popularity in the country and have shown great potential in terms of increasing brand exposure. We will be exploring this dataset as a part of our proposal using brand names, brand locations, and discount voucher redemptions per location."
   ]
  },
  {
   "cell_type": "markdown",
   "metadata": {},
   "source": [
    "<h1>Method</h1>"
   ]
  },
  {
   "cell_type": "markdown",
   "metadata": {},
   "source": [
    "To answer the client's first requirement, we need to collect data about the current italian restaurants in Doha. For this we will leverage Foursquare's api to pull data about the italian restaurants in the city including the name, location, as well as their ratings. We will use the seach query \"Italian\" and filter it with category \"Italian Restaurant\". We will also map these findings to visualize the locations of the competitors using folium.\n",
    "\n",
    "For the second business concern on jumpstarting the sales of the client's new italian restaurant, we have decided to collaborate with a discount app company to gain more exposure and therefore, drive more sales. We will be using the discount app's data to figure out a location where we can use this marketing platform to maximize our revenue. That is, exploring areas where customers use discount apps for food purchases. We will use folium to map the top restaurants in terms of discount app usage and look at areas where the results are most dense. This will indicate where we should launch the restaurant and yield the best results of this marketing strategy.\n",
    "\n",
    "Lastly, we want find the most optimal locations for launching new branches of the restaurant. For this we will cluster restaurants from the discount app dataset to group them according to areas. The clustering method we will use is kmeans clustering, with 3 clusters. The same way we decided where to launch the primary branch, we will look at the locations where the usage of discount apps is most dense with the use of folium mapping.\n",
    "\n"
   ]
  },
  {
   "cell_type": "markdown",
   "metadata": {},
   "source": [
    "<h1>Results</h1>"
   ]
  },
  {
   "cell_type": "markdown",
   "metadata": {},
   "source": [
    "For the first task, the Foursquare api call returned 21 items, which included Italian Salons, Italian Ice Cream Parlors, etc. After filtering with only \"Italian Restaurants\", we ended up with a list of 6 restaurants, excluding duplicates. These restaurants are Italian Job, Ciao, La Dolce, Castello Restorante Italiano, Alejandro's Italian Kitchen, and Jamie's Italian. We found that Castello Restorante Italiano and Alejandro's Italian hasn't been rated yet. Italian Job's rating is 7.3, the rest have the same rating of 7.8.\n",
    "\n",
    "For the second part of the task, our mapping results show that the top restaurants with the highest redemption of discounts is located mostly in one area around the C-Ring road.\n",
    "\n",
    "For the last part, with our clustering method, we ended up with clusters on the (0) south, (1) north, and (2) northwest parts of the city map. Most restaurant outlets were covered under cluster 0, areas where most out these top performing outlets in terms of discount redemption are located. We see that within each cluster areas, there are saturated locations where it would be best to locate branches if the restaurant were to continue in the direction of using discount apps for marketing.\n",
    "\n"
   ]
  },
  {
   "cell_type": "markdown",
   "metadata": {},
   "source": [
    "<h1>Discussion</h1>"
   ]
  },
  {
   "cell_type": "markdown",
   "metadata": {},
   "source": [
    "Our recommedation to the client is to keep an eye out for and track the success metrics of La Dolce, Jamie's Italian, and Ciao. These three, as the top rated, Italian Restaurants in Doha, would be indicators of the performance of the Italian Restaurant market. Next, we would recommend opening the primary branch along C-Ring Road to optimize the marketing strategy. Lastly, the most optimal locations to open 2 other branches is Villaggio Mall and the Pearl, where outlets where discounts are most redeemed are located in the cluster areas."
   ]
  },
  {
   "cell_type": "markdown",
   "metadata": {},
   "source": [
    "<h1>Conclusion</h1>"
   ]
  },
  {
   "cell_type": "markdown",
   "metadata": {},
   "source": [
    "We conclude that using this proposal to track the main competitors as a benchmark in the italian restaurant market, use the marketing strategy of gaining exposure through a discount app, locating the branches where restaurants that offer discounts succeed the most, and expanding to other similar locations will take and keep the business on a good standing."
   ]
  }
 ],
 "metadata": {
  "kernelspec": {
   "display_name": "Python 3",
   "language": "python",
   "name": "python3"
  },
  "language_info": {
   "codemirror_mode": {
    "name": "ipython",
    "version": 3
   },
   "file_extension": ".py",
   "mimetype": "text/x-python",
   "name": "python",
   "nbconvert_exporter": "python",
   "pygments_lexer": "ipython3",
   "version": "3.7.1"
  }
 },
 "nbformat": 4,
 "nbformat_minor": 2
}
